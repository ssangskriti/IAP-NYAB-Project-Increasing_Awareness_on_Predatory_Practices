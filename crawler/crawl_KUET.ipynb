{
 "cells": [
  {
   "cell_type": "code",
   "execution_count": 1,
   "id": "5070fc43-f68a-40f2-92ad-62c9396c1041",
   "metadata": {},
   "outputs": [],
   "source": [
    "import requests\n",
    "from requests import get\n",
    "from bs4 import BeautifulSoup"
   ]
  },
  {
   "cell_type": "code",
   "execution_count": 46,
   "id": "5d056cd2-5e45-4806-a808-798bad6ce036",
   "metadata": {},
   "outputs": [
    {
     "name": "stdout",
     "output_type": "stream",
     "text": [
      "https://www.kuet.ac.bd/department/CE/index.php/welcome/facultymember\n",
      "https://www.kuet.ac.bd/department/URP/index.php/welcome/facultymember\n",
      "https://www.kuet.ac.bd/department/BECM/index.php/welcome/facultymember\n",
      "https://www.kuet.ac.bd/department/ARCH/index.php/welcome/facultymember\n",
      "https://www.kuet.ac.bd/department/MATH/index.php/welcome/facultymember\n",
      "https://www.kuet.ac.bd/department/CHEM/index.php/welcome/facultymember\n",
      "https://www.kuet.ac.bd/department/PHY/index.php/welcome/facultymember\n",
      "https://www.kuet.ac.bd/department/HUM/index.php/welcome/facultymember\n",
      "https://www.kuet.ac.bd/department/EEE/index.php/welcome/facultymember\n",
      "https://www.kuet.ac.bd/department/CSE/index.php/welcome/facultymember\n",
      "https://www.kuet.ac.bd/department/ECE/index.php/welcome/facultymember\n",
      "https://www.kuet.ac.bd/department/BME/index.php/welcome/facultymember\n",
      "https://www.kuet.ac.bd/department/MSE/index.php/welcome/facultymember\n",
      "https://www.kuet.ac.bd/department/ME/index.php/welcome/facultymember\n",
      "https://www.kuet.ac.bd/department/IEM/index.php/welcome/facultymember\n",
      "https://www.kuet.ac.bd/department/LE/index.php/welcome/facultymember\n",
      "https://www.kuet.ac.bd/department/TE/index.php/welcome/facultymember\n",
      "https://www.kuet.ac.bd/department/ESE/index.php/welcome/facultymember\n",
      "https://www.kuet.ac.bd/department/Chemical/index.php/welcome/facultymember\n",
      "https://www.kuet.ac.bd/department/Mechat/index.php/welcome/facultymember\n"
     ]
    }
   ],
   "source": [
    "url = \"https://www.kuet.ac.bd/index.php/welcome/faculties\"\n",
    "results = requests.get(url)\n",
    "soup = BeautifulSoup(results.text, 'html.parser')\n",
    "# print(soup.prettify)\n",
    "dept_div = soup.find_all('a', attrs={'style':'margin:2px;'})\n",
    "# print(type(dept_div))\n",
    "# print(dept_div)\n",
    "\n",
    "departments = []\n",
    "\n",
    "for d in dept_div:\n",
    "    \n",
    "    d = d['href']\n",
    "    if d[len(d)-1] == '/':\n",
    "        d = d[:len(d)-1]\n",
    "    d = \"https://www.kuet.ac.bd\"+d+'/index.php/welcome/facultymember'\n",
    "    print(d)\n",
    "        \n",
    "    departments.append(d)"
   ]
  },
  {
   "cell_type": "code",
   "execution_count": 90,
   "id": "66f74858-9a7f-4b2e-817a-98d261b78c3f",
   "metadata": {},
   "outputs": [],
   "source": [
    "names = []\n",
    "emails = []\n",
    "\n",
    "for url in departments:\n",
    "     \n",
    "    results = requests.get(url)\n",
    "    soup = BeautifulSoup(results.text, 'html.parser')\n",
    "    # print(soup.prettify)\n",
    "    info = soup.find_all('h6')\n",
    "    \n",
    "    count = 1\n",
    "    for inf in info:\n",
    "        inf = inf.text\n",
    "        if count%4 == 1 and \"© 2022 All rights reserved\" not in inf:\n",
    "            names.append(inf)\n",
    "        if count%4==0:\n",
    "            inf = inf.replace('AT','@')\n",
    "            emails.append(inf)\n",
    "        count = count+1 "
   ]
  },
  {
   "cell_type": "code",
   "execution_count": 91,
   "id": "b17742f1-1c5e-4f30-b3bc-be54011fd3d1",
   "metadata": {},
   "outputs": [
    {
     "name": "stdout",
     "output_type": "stream",
     "text": [
      "355\n",
      "355\n"
     ]
    }
   ],
   "source": [
    "print(len(names))\n",
    "print(len(emails))"
   ]
  },
  {
   "cell_type": "code",
   "execution_count": 100,
   "id": "79c220ea-59b7-42ef-8640-c4148528862a",
   "metadata": {},
   "outputs": [
    {
     "name": "stdout",
     "output_type": "stream",
     "text": [
      "355\n"
     ]
    }
   ],
   "source": [
    "authors = []\n",
    "suffix = [\"Dr. \", \"Dr \", \"Professor Dr. \", \"Professor \", \"Professor Dr \", \"Mr. \",\"Mrs. \",\"Mr \",\"Mrs \", \n",
    "          \"Pro.Dr.\",\"(Mrs.) \",\"Miss. \", \"Dr.\" , \"Prof. \" ]\n",
    "\n",
    "for name in names:\n",
    "    for s in suffix:\n",
    "        if s in name:\n",
    "            name = name.replace(s,\"\")\n",
    "    if '(' in name:\n",
    "        index = name.find(\"(\")\n",
    "        name = name[:index-1]\n",
    "    name = name.rstrip()\n",
    "    authors.append(name)\n",
    "print(len(authors))\n",
    "# print(authors)"
   ]
  },
  {
   "cell_type": "code",
   "execution_count": 101,
   "id": "fd4d05aa-8a54-430f-ad93-3f86793ab562",
   "metadata": {},
   "outputs": [],
   "source": [
    "import pandas as pd\n",
    "import numpy as np"
   ]
  },
  {
   "cell_type": "code",
   "execution_count": 102,
   "id": "982eb342-c719-4bea-b4e0-d5748adfa029",
   "metadata": {},
   "outputs": [
    {
     "name": "stdout",
     "output_type": "stream",
     "text": [
      "                      name                                         email  \\\n",
      "0        Muhammed  Alamgir  alamgir@ce.kuet.ac.bd, alamgir63dr@yahoo.com   \n",
      "1       Quazi Hamidul Bari                          qhbari@ce.kuet.ac.bd   \n",
      "2     Quazi Sazzad Hossain    sazzad@ce.kuet.ac.bd, sazzad1999@yahoo.com   \n",
      "3         Md. Saiful Islam  saiful@ce.kuet.ac.bd, saifulkuet92@gmail.com   \n",
      "4  Muhammad Harunur Rashid     mhrashid@ce.kuet.ac.bd, hafin02@gmail.com   \n",
      "\n",
      "  university  \n",
      "0       KUET  \n",
      "1       KUET  \n",
      "2       KUET  \n",
      "3       KUET  \n",
      "4       KUET  \n",
      "name          object\n",
      "email         object\n",
      "university    object\n",
      "dtype: object\n"
     ]
    }
   ],
   "source": [
    "dict = {'name': authors, 'email': emails, 'university':\"KUET\"}\n",
    "all_KUET_authors = pd.DataFrame(dict)\n",
    "print(all_KUET_authors.head())\n",
    "print(all_KUET_authors.dtypes)"
   ]
  },
  {
   "cell_type": "code",
   "execution_count": 103,
   "id": "58b5f96b-cd8f-4d9c-aa5d-0a1d169b0470",
   "metadata": {},
   "outputs": [],
   "source": [
    "all_KUET_authors.to_csv('list_of_authors_KUET.csv')"
   ]
  },
  {
   "cell_type": "code",
   "execution_count": 89,
   "id": "85a957ce-6105-4a80-a9d6-45b730fa7955",
   "metadata": {},
   "outputs": [
    {
     "name": "stdout",
     "output_type": "stream",
     "text": [
      "at@.com\n"
     ]
    }
   ],
   "source": [
    "string = \"atAT.com\"\n",
    "string = string.replace('AT','@')\n",
    "print(string)"
   ]
  }
 ],
 "metadata": {
  "kernelspec": {
   "display_name": "Python 3 (ipykernel)",
   "language": "python",
   "name": "python3"
  },
  "language_info": {
   "codemirror_mode": {
    "name": "ipython",
    "version": 3
   },
   "file_extension": ".py",
   "mimetype": "text/x-python",
   "name": "python",
   "nbconvert_exporter": "python",
   "pygments_lexer": "ipython3",
   "version": "3.9.7"
  }
 },
 "nbformat": 4,
 "nbformat_minor": 5
}
