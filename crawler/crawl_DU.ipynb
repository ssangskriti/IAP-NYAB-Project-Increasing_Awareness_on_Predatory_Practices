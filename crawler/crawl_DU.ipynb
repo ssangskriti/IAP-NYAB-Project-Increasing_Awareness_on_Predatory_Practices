{
 "cells": [
  {
   "cell_type": "code",
   "execution_count": 1,
   "id": "6c318ef7-28f7-4ea2-b2e0-143b74b939b1",
   "metadata": {},
   "outputs": [],
   "source": [
    "import requests\n",
    "from requests import get\n",
    "from bs4 import BeautifulSoup"
   ]
  },
  {
   "cell_type": "markdown",
   "id": "6b8c8e98-6be9-443c-bcec-43004cc10bb9",
   "metadata": {
    "tags": []
   },
   "source": [
    "### department list of DU"
   ]
  },
  {
   "cell_type": "code",
   "execution_count": 2,
   "id": "0ff2b99a-6827-433a-8eb2-0ba23201b4df",
   "metadata": {},
   "outputs": [],
   "source": [
    "url = \"https://www.du.ac.bd/departments\"\n",
    "results = requests.get(url)\n",
    "soup = BeautifulSoup(results.text, 'html.parser')\n",
    "# print(soup.prettify)"
   ]
  },
  {
   "cell_type": "code",
   "execution_count": 3,
   "id": "1b3938df-b878-4d93-a445-c3823cbf51a3",
   "metadata": {},
   "outputs": [],
   "source": [
    "dept_div = soup.find_all('h4', class_='min-height-45px text-left')\n",
    "# print(dept_div)\n",
    "# print(len(dept_div))"
   ]
  },
  {
   "cell_type": "code",
   "execution_count": 4,
   "id": "907a5823-3f0d-4211-b5ca-586d4fa489d9",
   "metadata": {},
   "outputs": [],
   "source": [
    "departments = []\n",
    "for container in dept_div:\n",
    "    link = container.a['href']\n",
    "    link  = \"https://www.du.ac.bd/body/FacultyMembers/\"+ link[26:]\n",
    "    departments.append(link)\n",
    "\n",
    "# print(departments)\n",
    "# len(departments)"
   ]
  },
  {
   "cell_type": "markdown",
   "id": "88217197-d04e-46ba-b381-192837a2c214",
   "metadata": {},
   "source": [
    "### faculty list of DU"
   ]
  },
  {
   "cell_type": "code",
   "execution_count": 5,
   "id": "ea4d5eb7-430c-4a24-a592-5f7157144dab",
   "metadata": {},
   "outputs": [],
   "source": [
    "faculty_list = []\n",
    "for url in departments:\n",
    "    \n",
    "    results = requests.get(url)\n",
    "    soup = BeautifulSoup(results.text, 'html.parser')\n",
    "    faculty = soup.find_all('a', class_='btn circle btn-dark border btn-sm')\n",
    "    # print(faculty)\n",
    "    for people in faculty:\n",
    "        link = people['href']\n",
    "        faculty_list.append(link)\n",
    "# print(faculty_list)"
   ]
  },
  {
   "cell_type": "markdown",
   "id": "2ef02ebf-41d5-4433-9376-2a7163fdfe59",
   "metadata": {},
   "source": [
    "### faculty information (name, email)"
   ]
  },
  {
   "cell_type": "code",
   "execution_count": 6,
   "id": "1716e830-b3f6-443f-addc-d3038e37e345",
   "metadata": {},
   "outputs": [],
   "source": [
    "names = []\n",
    "emails = []\n",
    "\n",
    "for url in faculty_list:\n",
    "    \n",
    "    results = requests.get(url)\n",
    "    soup = BeautifulSoup(results.text, 'html.parser')\n",
    "    prof = soup.find_all('div', class_='bold font-size-18px')\n",
    "    email = soup.find_all('div', attrs={'style' : \"font-size:13px;\"})\n",
    "    \n",
    "    \n",
    "    for info in prof:\n",
    "        name = info.text\n",
    "        names.append(name)\n",
    "    \n",
    "    email = email[-2]\n",
    "    for em in email:\n",
    "        \n",
    "        id = em.text\n",
    "        id = id.strip()\n",
    "        id = id[7:]\n",
    "        emails.append(id)\n"
   ]
  },
  {
   "cell_type": "code",
   "execution_count": 7,
   "id": "5df22528-4993-4d8c-b062-48d891d0a314",
   "metadata": {},
   "outputs": [
    {
     "name": "stdout",
     "output_type": "stream",
     "text": [
      "1720\n",
      "1720\n"
     ]
    }
   ],
   "source": [
    "print(len(names))\n",
    "print(len(emails))"
   ]
  },
  {
   "cell_type": "code",
   "execution_count": 8,
   "id": "de8eb9a8-9529-43bb-b01b-6d93c94d79f0",
   "metadata": {},
   "outputs": [
    {
     "name": "stdout",
     "output_type": "stream",
     "text": [
      "1720\n"
     ]
    }
   ],
   "source": [
    "authors = []\n",
    "suffix = [\"Dr. \", \"Dr \", \"Professor Dr. \", \"Professor \", \"Professor Dr \", \"Mr. \",\"Mrs. \",\"Mr \",\"Mrs \", \n",
    "          \"Pro.Dr.\",\"(Mrs.) \",\"Miss. \", \"Dr.\"  ]\n",
    "\n",
    "for name in names:\n",
    "    for s in suffix:\n",
    "        if s in name:\n",
    "            name = name.replace(s,\"\")\n",
    "    if '(' in name:\n",
    "        index = name.find(\"(\")\n",
    "        name = name[:index-1]\n",
    "    authors.append(name)\n",
    "print(len(authors))"
   ]
  },
  {
   "cell_type": "code",
   "execution_count": 9,
   "id": "c55abd94-15bd-4498-90f1-90393e9282b8",
   "metadata": {},
   "outputs": [],
   "source": [
    "import pandas as pd\n",
    "import numpy as np"
   ]
  },
  {
   "cell_type": "code",
   "execution_count": 10,
   "id": "9231bc8d-7ec0-41f8-a071-f43c55ef9f93",
   "metadata": {},
   "outputs": [],
   "source": [
    "dict = {'name': authors, 'email': emails, 'university':\"DU\"}"
   ]
  },
  {
   "cell_type": "code",
   "execution_count": 11,
   "id": "5dad2fe4-2a1c-465a-9b02-4f30cb382d61",
   "metadata": {},
   "outputs": [],
   "source": [
    "all_DU_authors = pd.DataFrame(dict)"
   ]
  },
  {
   "cell_type": "code",
   "execution_count": 12,
   "id": "3a3536b1-f825-4080-b08d-74d7da0ed1ad",
   "metadata": {},
   "outputs": [
    {
     "name": "stdout",
     "output_type": "stream",
     "text": [
      "                      name                          email university\n",
      "0   Dhiman Kumar Chowdhury     dhiman_chowdhury@yahoo.com         DU\n",
      "1       Mamtaz Uddin Ahmed  mamtaz_uddinahmed58@yahoo.com         DU\n",
      "2          Md. Abdul Hakim           mahakim_ais@du.ac.bd         DU\n",
      "3  Riazur Rahman Chowdhury    riazchowdhury62@yahoo.co.uk         DU\n",
      "4           Tahmina Khatun        tahmina.khatun@du.ac.bd         DU\n",
      "name          object\n",
      "email         object\n",
      "university    object\n",
      "dtype: object\n"
     ]
    }
   ],
   "source": [
    "print(all_DU_authors.head())\n",
    "print(all_DU_authors.dtypes)"
   ]
  },
  {
   "cell_type": "code",
   "execution_count": 13,
   "id": "c2779d24-87ad-486a-925e-673c5bbec558",
   "metadata": {},
   "outputs": [],
   "source": [
    "# all_DU_authors = all_DU_authors.apply(lambda x: x.str.strip()).replace('', np.nan)"
   ]
  },
  {
   "cell_type": "code",
   "execution_count": 14,
   "id": "74c9b12b-a79d-4b7b-a552-4dbf209f45cc",
   "metadata": {},
   "outputs": [],
   "source": [
    "all_DU_authors.to_csv('list_of_authors_DU.csv')"
   ]
  },
  {
   "cell_type": "code",
   "execution_count": 15,
   "id": "0b29eaa8-10c7-4219-8d5f-eab57ed3eac6",
   "metadata": {},
   "outputs": [
    {
     "name": "stdout",
     "output_type": "stream",
     "text": [
      "<class 'str'>\n"
     ]
    }
   ],
   "source": [
    "print(type(all_DU_authors.iloc[1717][1]))\n"
   ]
  },
  {
   "cell_type": "code",
   "execution_count": null,
   "id": "014ed739-5235-4a41-9222-2a3c94fd3c2c",
   "metadata": {},
   "outputs": [],
   "source": []
  }
 ],
 "metadata": {
  "kernelspec": {
   "display_name": "Python 3 (ipykernel)",
   "language": "python",
   "name": "python3"
  },
  "language_info": {
   "codemirror_mode": {
    "name": "ipython",
    "version": 3
   },
   "file_extension": ".py",
   "mimetype": "text/x-python",
   "name": "python",
   "nbconvert_exporter": "python",
   "pygments_lexer": "ipython3",
   "version": "3.9.7"
  }
 },
 "nbformat": 4,
 "nbformat_minor": 5
}
