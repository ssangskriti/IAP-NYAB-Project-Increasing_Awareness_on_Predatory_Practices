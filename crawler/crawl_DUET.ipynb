{
 "cells": [
  {
   "cell_type": "code",
   "execution_count": 1,
   "id": "d31ce4f1-819a-45db-a2a0-0e284bd22450",
   "metadata": {},
   "outputs": [],
   "source": [
    "import requests\n",
    "from requests import get\n",
    "from bs4 import BeautifulSoup\n",
    "import pandas as pd\n",
    "import numpy as np"
   ]
  },
  {
   "cell_type": "code",
   "execution_count": 2,
   "id": "266c0947-1e4e-435d-af1a-c5bfcd352561",
   "metadata": {},
   "outputs": [
    {
     "ename": "KeyError",
     "evalue": "'href'",
     "output_type": "error",
     "traceback": [
      "\u001b[1;31m---------------------------------------------------------------------------\u001b[0m",
      "\u001b[1;31mKeyError\u001b[0m                                  Traceback (most recent call last)",
      "\u001b[1;32m~\\AppData\\Local\\Temp/ipykernel_13124/263483491.py\u001b[0m in \u001b[0;36m<module>\u001b[1;34m\u001b[0m\n\u001b[0;32m     11\u001b[0m \u001b[1;32mfor\u001b[0m \u001b[0md\u001b[0m \u001b[1;32min\u001b[0m \u001b[0mdept_div\u001b[0m\u001b[1;33m:\u001b[0m\u001b[1;33m\u001b[0m\u001b[1;33m\u001b[0m\u001b[0m\n\u001b[0;32m     12\u001b[0m \u001b[1;33m\u001b[0m\u001b[0m\n\u001b[1;32m---> 13\u001b[1;33m     \u001b[0md\u001b[0m \u001b[1;33m=\u001b[0m \u001b[0md\u001b[0m\u001b[1;33m[\u001b[0m\u001b[1;34m'href'\u001b[0m\u001b[1;33m]\u001b[0m\u001b[1;33m\u001b[0m\u001b[1;33m\u001b[0m\u001b[0m\n\u001b[0m\u001b[0;32m     14\u001b[0m     \u001b[1;32mif\u001b[0m \u001b[1;34m'/department/'\u001b[0m \u001b[1;32min\u001b[0m \u001b[0md\u001b[0m\u001b[1;33m:\u001b[0m\u001b[1;33m\u001b[0m\u001b[1;33m\u001b[0m\u001b[0m\n\u001b[0;32m     15\u001b[0m         \u001b[1;31m# print(d)\u001b[0m\u001b[1;33m\u001b[0m\u001b[1;33m\u001b[0m\u001b[0m\n",
      "\u001b[1;32m~\\AppData\\Local\\Programs\\Python\\Python39\\lib\\site-packages\\bs4\\element.py\u001b[0m in \u001b[0;36m__getitem__\u001b[1;34m(self, key)\u001b[0m\n\u001b[0;32m   1484\u001b[0m         \"\"\"tag[key] returns the value of the 'key' attribute for the Tag,\n\u001b[0;32m   1485\u001b[0m         and throws an exception if it's not there.\"\"\"\n\u001b[1;32m-> 1486\u001b[1;33m         \u001b[1;32mreturn\u001b[0m \u001b[0mself\u001b[0m\u001b[1;33m.\u001b[0m\u001b[0mattrs\u001b[0m\u001b[1;33m[\u001b[0m\u001b[0mkey\u001b[0m\u001b[1;33m]\u001b[0m\u001b[1;33m\u001b[0m\u001b[1;33m\u001b[0m\u001b[0m\n\u001b[0m\u001b[0;32m   1487\u001b[0m \u001b[1;33m\u001b[0m\u001b[0m\n\u001b[0;32m   1488\u001b[0m     \u001b[1;32mdef\u001b[0m \u001b[0m__iter__\u001b[0m\u001b[1;33m(\u001b[0m\u001b[0mself\u001b[0m\u001b[1;33m)\u001b[0m\u001b[1;33m:\u001b[0m\u001b[1;33m\u001b[0m\u001b[1;33m\u001b[0m\u001b[0m\n",
      "\u001b[1;31mKeyError\u001b[0m: 'href'"
     ]
    }
   ],
   "source": [
    "url = \"https://www.duet.ac.bd/\"\n",
    "results = requests.get(url)\n",
    "soup = BeautifulSoup(results.text, 'html.parser')\n",
    "# print(soup.prettify)\n",
    "dept_div = soup.find_all('a')\n",
    "# print(type(dept_div))\n",
    "# print(dept_div)\n",
    "\n",
    "departments = []\n",
    "\n",
    "for d in dept_div:\n",
    "    \n",
    "    d = d['href']\n",
    "    if '/department/' in d:\n",
    "        # print(d)\n",
    "        departments.append(d)\n"
   ]
  },
  {
   "cell_type": "code",
   "execution_count": 4,
   "id": "93905dcf-6ed8-49e2-aabc-58d3556b576b",
   "metadata": {},
   "outputs": [
    {
     "name": "stdout",
     "output_type": "stream",
     "text": [
      "13\n",
      "['https://www.duet.ac.bd/department/civil-engineering/', 'https://www.duet.ac.bd/department/electrical-electronic-engineering/', 'https://www.duet.ac.bd/department/department-of-mechanical-engineering/', 'https://www.duet.ac.bd/department/department-of-computer-science-engineering/', 'https://www.duet.ac.bd/department/department-of-textile-engineering/', 'https://www.duet.ac.bd/department/department-of-architecture/', 'https://www.duet.ac.bd/department/department-of-industrial-production-engineering/', 'https://www.duet.ac.bd/department/department-of-materials-and-metallurgical-engineering/', 'https://www.duet.ac.bd/department/department-of-chemical-food-engineering/', 'https://www.duet.ac.bd/department/department-of-mathematics/', 'https://www.duet.ac.bd/department/department-of-physics/', 'https://www.duet.ac.bd/department/department-of-chemistry/', 'https://www.duet.ac.bd/department/department-of-humanities-social-sciences/']\n"
     ]
    }
   ],
   "source": [
    "departments = departments[0:13]\n",
    "print(len(departments))\n",
    "print(departments)"
   ]
  },
  {
   "cell_type": "code",
   "execution_count": 5,
   "id": "ecda57d3-fe29-4a2f-ae70-04d91cbadb39",
   "metadata": {},
   "outputs": [
    {
     "name": "stdout",
     "output_type": "stream",
     "text": [
      "13\n",
      "['https://www.duet.ac.bd/department/civil-engineering/faculty-member/', 'https://www.duet.ac.bd/department/electrical-electronic-engineering/faculty-member/', 'https://www.duet.ac.bd/department/department-of-mechanical-engineering/faculty-member/', 'https://www.duet.ac.bd/department/department-of-computer-science-engineering/faculty-member/', 'https://www.duet.ac.bd/department/department-of-textile-engineering/faculty-member/', 'https://www.duet.ac.bd/department/department-of-architecture/faculty-member/', 'https://www.duet.ac.bd/department/department-of-industrial-production-engineering/faculty-member/', 'https://www.duet.ac.bd/department/department-of-materials-and-metallurgical-engineering/faculty-member/', 'https://www.duet.ac.bd/department/department-of-chemical-food-engineering/faculty-member/', 'https://www.duet.ac.bd/department/department-of-mathematics/faculty-member/', 'https://www.duet.ac.bd/department/department-of-physics/faculty-member/', 'https://www.duet.ac.bd/department/department-of-chemistry/faculty-member/', 'https://www.duet.ac.bd/department/department-of-humanities-social-sciences/faculty-member/']\n"
     ]
    }
   ],
   "source": [
    "faculty_list = []\n",
    "\n",
    "for d in departments:\n",
    "    \n",
    "    # print(type(d))\n",
    "    d = d +'faculty-member/'\n",
    "    faculty_list.append(d)\n",
    "\n",
    "print(len(faculty_list))\n",
    "print(faculty_list)"
   ]
  },
  {
   "cell_type": "code",
   "execution_count": 22,
   "id": "ad90e8b2-9466-46d2-a5da-7d28a19bbb1b",
   "metadata": {},
   "outputs": [
    {
     "data": {
      "text/plain": [
       "34"
      ]
     },
     "execution_count": 22,
     "metadata": {},
     "output_type": "execute_result"
    }
   ],
   "source": [
    "len(\"https://www.duet.ac.bd/department/\")"
   ]
  },
  {
   "cell_type": "code",
   "execution_count": 60,
   "id": "faf7481e-77ff-47eb-a85c-7c81b6a6b2f0",
   "metadata": {},
   "outputs": [],
   "source": [
    "names = []\n",
    "emails = []\n",
    "\n",
    "for url in faculty_list:\n",
    "     \n",
    "    results = requests.get(url)\n",
    "    soup = BeautifulSoup(results.text, 'html.parser')\n",
    "    # print(soup.prettify)\n",
    "    info = soup.find_all('td')\n",
    "    \n",
    "    # print(\"faculty: \"+ url[34:]+'\\n')\n",
    "    \n",
    "    count = 0\n",
    "    for inf in info:\n",
    "        if inf.div!=None:\n",
    "            if inf.div.a != None and inf.div.a['href']=='#':\n",
    "                count = count+1\n",
    "                if count%5 == 1:\n",
    "                    # print(inf.div.a.text)\n",
    "                    n = inf.div.a.text\n",
    "                    n = n.strip()\n",
    "                    names.append(n)\n",
    "                if count%5==0:\n",
    "                    # print(inf.div.a.text)\n",
    "                    em = inf.div.a.text\n",
    "                    em = em.strip()\n",
    "                    emails.append(em)\n",
    "            \n",
    "    "
   ]
  },
  {
   "cell_type": "code",
   "execution_count": 71,
   "id": "59e63f54-8ce4-4ad8-9a37-742131ee7a04",
   "metadata": {},
   "outputs": [
    {
     "name": "stdout",
     "output_type": "stream",
     "text": [
      "278 278\n"
     ]
    }
   ],
   "source": [
    "print(len(names), len(emails))\n",
    "# print(names)\n",
    "# print(emails)"
   ]
  },
  {
   "cell_type": "code",
   "execution_count": 63,
   "id": "3fdbe5d8-572a-45c0-a6f8-ca6f2839ad94",
   "metadata": {},
   "outputs": [
    {
     "name": "stdout",
     "output_type": "stream",
     "text": [
      "278\n"
     ]
    }
   ],
   "source": [
    "authors = []\n",
    "suffix = [\"Dr. \", \"Dr \", \"Professor Dr. \", \"Professor \", \"Professor Dr \", \"Mr. \",\"Mrs. \",\"Mr \",\"Mrs \", \n",
    "          \"Pro.Dr.\",\"(Mrs.) \",\"Miss. \", \"Dr.\" , \"Prof. \" ]\n",
    "\n",
    "for name in names:\n",
    "    for s in suffix:\n",
    "        if s in name:\n",
    "            name = name.replace(s,\"\")\n",
    "    if '(' in name:\n",
    "        index = name.find(\"(\")\n",
    "        name = name[:index-1]\n",
    "    name = name.rstrip()\n",
    "    authors.append(name)\n",
    "print(len(authors))\n",
    "# print(authors)"
   ]
  },
  {
   "cell_type": "code",
   "execution_count": 73,
   "id": "7bfa6022-2cc4-4b31-bc9f-65cfde799717",
   "metadata": {},
   "outputs": [],
   "source": [
    "email_list  = []\n",
    "garbage = [' at ', ' At ']\n",
    "for em in emails:\n",
    "    for g in garbage:\n",
    "        if g in em:\n",
    "            em = em.replace(g,'@')\n",
    "    email_list.append(em)\n",
    "    \n",
    "emails = email_list\n",
    "# print(len(emails))\n",
    "# print(emails)\n",
    "\n"
   ]
  },
  {
   "cell_type": "code",
   "execution_count": 74,
   "id": "0dc1af38-23cd-47ea-9cb1-008d9393eb20",
   "metadata": {},
   "outputs": [
    {
     "name": "stdout",
     "output_type": "stream",
     "text": [
      "                    name                                        email  \\\n",
      "0       Md. Akramul Alam                           head_ce@duet.ac.bd   \n",
      "1      Md. Showkat Osman       pd.cobit@gmail.com, showkat@duet.ac.bd   \n",
      "2  Mohammad Abdur Rashid    marashid78@yahoo.com, marashid@duet.ac.bd   \n",
      "3       Md. Nazrul Islam  nazrul2100@yahoo.com, nazrul2100@duet.ac.bd   \n",
      "4    Ganesh Chandra Saha      ganesh@duet.ac.bd, ganeshduet@yahoo.com   \n",
      "\n",
      "  university  \n",
      "0       DUET  \n",
      "1       DUET  \n",
      "2       DUET  \n",
      "3       DUET  \n",
      "4       DUET  \n",
      "name          object\n",
      "email         object\n",
      "university    object\n",
      "dtype: object\n"
     ]
    }
   ],
   "source": [
    "dict = {'name': authors, 'email': emails, 'university':\"DUET\"}\n",
    "all_DUET_authors = pd.DataFrame(dict)\n",
    "print(all_DUET_authors.head())\n",
    "print(all_DUET_authors.dtypes)"
   ]
  },
  {
   "cell_type": "code",
   "execution_count": 70,
   "id": "1440a430-8445-423f-9586-2e443e9b856e",
   "metadata": {},
   "outputs": [],
   "source": [
    "all_DUET_authors.to_csv('list_of_authors_DUET.csv')"
   ]
  },
  {
   "cell_type": "code",
   "execution_count": 69,
   "id": "c21473d2-a845-44f4-8fc4-c5cf325e1c20",
   "metadata": {},
   "outputs": [
    {
     "name": "stdout",
     "output_type": "stream",
     "text": [
      "@ .com\n"
     ]
    }
   ],
   "source": [
    "string = \" AT .com\"\n",
    "string = string.replace('AT','@')\n",
    "string = string.strip()\n",
    "print(string)"
   ]
  }
 ],
 "metadata": {
  "kernelspec": {
   "display_name": "Python 3 (ipykernel)",
   "language": "python",
   "name": "python3"
  },
  "language_info": {
   "codemirror_mode": {
    "name": "ipython",
    "version": 3
   },
   "file_extension": ".py",
   "mimetype": "text/x-python",
   "name": "python",
   "nbconvert_exporter": "python",
   "pygments_lexer": "ipython3",
   "version": "3.9.7"
  }
 },
 "nbformat": 4,
 "nbformat_minor": 5
}
