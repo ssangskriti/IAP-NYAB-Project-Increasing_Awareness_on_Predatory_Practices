{
 "cells": [
  {
   "cell_type": "code",
   "execution_count": 6,
   "id": "fd7cf4b7-a411-467c-8525-afd7ec3df351",
   "metadata": {},
   "outputs": [],
   "source": [
    "from scholarly import scholarly\n",
    "import pandas as pd"
   ]
  },
  {
   "cell_type": "code",
   "execution_count": 7,
   "id": "e222936c-f3da-4633-b75f-cc6021f5f4e9",
   "metadata": {},
   "outputs": [],
   "source": [
    "file = pd.read_csv(\"list_of_authors.csv\")\n"
   ]
  },
  {
   "cell_type": "code",
   "execution_count": 10,
   "id": "b3c4672c-fc13-4c36-9dea-79fcd6507ffe",
   "metadata": {},
   "outputs": [
    {
     "name": "stdout",
     "output_type": "stream",
     "text": [
      "      Unnamed: 0                        name                          email  \\\n",
      "0              0      Dhiman Kumar Chowdhury     dhiman_chowdhury@yahoo.com   \n",
      "1              1          Mamtaz Uddin Ahmed  mamtaz_uddinahmed58@yahoo.com   \n",
      "2              2             Md. Abdul Hakim           mahakim_ais@du.ac.bd   \n",
      "3              3     Riazur Rahman Chowdhury    riazchowdhury62@yahoo.co.uk   \n",
      "4              4              Tahmina Khatun        tahmina.khatun@du.ac.bd   \n",
      "...          ...                         ...                            ...   \n",
      "3265         549             Marriya Sultana          marriya_soc@yahoo.com   \n",
      "3266         550  Mohammad Maniruzzaman Khan         shohag99sust@gmail.com   \n",
      "3267         551     Avijit Chakrabarty Ayon                            NaN   \n",
      "3268         552        Tania Jannatul Kobra                            NaN   \n",
      "3269         553       Sanjida Sultana Zerin           sszerin-soc@sust.edu   \n",
      "\n",
      "     university  \n",
      "0            DU  \n",
      "1            DU  \n",
      "2            DU  \n",
      "3            DU  \n",
      "4            DU  \n",
      "...         ...  \n",
      "3265       SUST  \n",
      "3266       SUST  \n",
      "3267       SUST  \n",
      "3268       SUST  \n",
      "3269       SUST  \n",
      "\n",
      "[3270 rows x 4 columns]\n",
      "<class 'list'>\n"
     ]
    }
   ],
   "source": [
    "print(file)\n",
    "authors = {}\n",
    "authors['name'] =     file['name'].values.tolist()\n",
    "authors['email'] =     file['email'].values.tolist()\n",
    "authors['university'] =     file['university'].values.tolist()\n",
    "authors['scholar_id'] = []\n",
    "print(type(authors['scholar_id']))"
   ]
  },
  {
   "cell_type": "code",
   "execution_count": 17,
   "id": "f83281eb-bd8a-4307-b1e1-72754453425b",
   "metadata": {},
   "outputs": [],
   "source": [
    "def institution(uni):\n",
    "    if uni == \"SUST\":\n",
    "        uni = \"Shahjalal University of Science and Technology\"\n",
    "    elif uni == \"KUET\":\n",
    "        uni = \"Khulna University of Engineering and Technology\"\n",
    "    elif uni == \"RUET\":\n",
    "        uni = \"Rajshahi University of Engineering and Technology\"\n",
    "    elif uni == \"DUET\":\n",
    "        uni = \"Dhaka University of Engineering and Technology\"\n",
    "    elif uni == \"DU\":\n",
    "        uni = \"Dhaka University\"\n",
    "        \n",
    "    return uni"
   ]
  },
  {
   "cell_type": "code",
   "execution_count": null,
   "id": "80f83417-423b-4095-9edc-17515a139108",
   "metadata": {},
   "outputs": [],
   "source": [
    "count = 0\n",
    "\n",
    "for naam in authors['name']:\n",
    "    length = len(naam)\n",
    "    searched = scholarly.search_author(naam)\n",
    "    uni = authors['university'][count]\n",
    "    uni = institution(uni)\n",
    "    \n",
    "    for s in searched:\n",
    "        if uni in s['affiliation'] and len(s['name'])==length:\n",
    "            authors['scholar_id'].append(s['scholar_id'])\n",
    "    if len(authors['scholar_id']) != count+1:\n",
    "        authors['scholar_id'].append('does not exist')\n",
    "    \n",
    "    count = count+1"
   ]
  },
  {
   "cell_type": "code",
   "execution_count": null,
   "id": "d7c591e8-e30e-47ef-b293-dede286d4d1e",
   "metadata": {},
   "outputs": [],
   "source": [
    "print(len(authors['scholar_id']))\n",
    "print(authors['scholar_id'])"
   ]
  },
  {
   "cell_type": "markdown",
   "id": "09911f6c-aa36-42d2-b84d-fcd69344619d",
   "metadata": {},
   "source": [
    "### "
   ]
  },
  {
   "cell_type": "code",
   "execution_count": 25,
   "id": "2f9b6581-e466-406f-8492-97e85d1f6668",
   "metadata": {},
   "outputs": [],
   "source": [
    "searched = scholarly.search_author('md saiful islam')"
   ]
  },
  {
   "cell_type": "code",
   "execution_count": 15,
   "id": "6d0a1087-d9de-456d-836f-0b6e5debdc9f",
   "metadata": {},
   "outputs": [
    {
     "name": "stdout",
     "output_type": "stream",
     "text": [
      "{'container_type': 'Author', 'filled': [], 'source': <AuthorSource.SEARCH_AUTHOR_SNIPPETS: 'SEARCH_AUTHOR_SNIPPETS'>, 'scholar_id': 'uyCiUr4AAAAJ', 'url_picture': 'https://scholar.google.com/citations?view_op=medium_photo&user=uyCiUr4AAAAJ', 'name': 'Md Saiful Islam', 'affiliation': 'Photogarpher', 'email_domain': '', 'interests': ['Music'], 'citedby': 25671}\n",
      "{'container_type': 'Author', 'filled': [], 'source': <AuthorSource.SEARCH_AUTHOR_SNIPPETS: 'SEARCH_AUTHOR_SNIPPETS'>, 'scholar_id': '5GAk8YoAAAAJ', 'url_picture': 'https://scholar.google.com/citations?view_op=medium_photo&user=5GAk8YoAAAAJ', 'name': 'Md. Saiful Islam', 'affiliation': 'Professor of Entomology in the Department of Crop Science  and Technology', 'email_domain': '', 'interests': ['management of stored grain pests using …', 'Diatomaceous earth', 'Pheromones'], 'citedby': 9523}\n",
      "{'container_type': 'Author', 'filled': [], 'source': <AuthorSource.SEARCH_AUTHOR_SNIPPETS: 'SEARCH_AUTHOR_SNIPPETS'>, 'scholar_id': 'PX7QF2gAAAAJ', 'url_picture': 'https://scholar.google.com/citations?view_op=medium_photo&user=PX7QF2gAAAAJ', 'name': 'Professor Dr. Md. Saiful Islam', 'affiliation': 'Department of Soil Science Faculty of Agriculture Patuakhali Science and Technology …', 'email_domain': '@pstu.ac.bd', 'interests': ['Soil Science', 'Environmental Science', 'Plant nutrition', 'Molecular biology'], 'citedby': 5823}\n",
      "{'container_type': 'Author', 'filled': [], 'source': <AuthorSource.SEARCH_AUTHOR_SNIPPETS: 'SEARCH_AUTHOR_SNIPPETS'>, 'scholar_id': '5uYKSQkAAAAJ', 'url_picture': 'https://scholar.google.com/citations?view_op=medium_photo&user=5uYKSQkAAAAJ', 'name': 'Md Saiful Islam', 'affiliation': 'pharmacy student', 'email_domain': '', 'interests': ['Pharma Research'], 'citedby': 5626}\n"
     ]
    }
   ],
   "source": [
    "print(next(searched))\n",
    "print(next(searched))\n",
    "print(next(searched))\n",
    "print(next(searched))"
   ]
  },
  {
   "cell_type": "code",
   "execution_count": 26,
   "id": "341f7353-7ac6-4474-ad95-8b9fee6d88a3",
   "metadata": {},
   "outputs": [
    {
     "name": "stdout",
     "output_type": "stream",
     "text": [
      "tQT0OSAAAAAJ\n"
     ]
    }
   ],
   "source": [
    "length = len(\"md saiful islam\")\n",
    "for author in searched:\n",
    "    if \"Shahjalal\" in author['affiliation'] and len(author['name'])==length:\n",
    "        print(author['scholar_id'])\n",
    "    # print(\"...\")"
   ]
  }
 ],
 "metadata": {
  "kernelspec": {
   "display_name": "Python 3 (ipykernel)",
   "language": "python",
   "name": "python3"
  },
  "language_info": {
   "codemirror_mode": {
    "name": "ipython",
    "version": 3
   },
   "file_extension": ".py",
   "mimetype": "text/x-python",
   "name": "python",
   "nbconvert_exporter": "python",
   "pygments_lexer": "ipython3",
   "version": "3.9.7"
  }
 },
 "nbformat": 4,
 "nbformat_minor": 5
}
