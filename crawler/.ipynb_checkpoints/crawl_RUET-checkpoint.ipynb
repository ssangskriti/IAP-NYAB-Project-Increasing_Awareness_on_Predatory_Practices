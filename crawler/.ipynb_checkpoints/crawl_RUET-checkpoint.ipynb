{
 "cells": [
  {
   "cell_type": "code",
   "execution_count": 1,
   "id": "5e4380ef-d32a-4179-b47e-507384fad8d6",
   "metadata": {},
   "outputs": [],
   "source": [
    "import requests\n",
    "from requests import get\n",
    "from bs4 import BeautifulSoup"
   ]
  },
  {
   "cell_type": "code",
   "execution_count": 9,
   "id": "70b24e2a-c10e-447f-8f62-a4206141509b",
   "metadata": {},
   "outputs": [
    {
     "name": "stdout",
     "output_type": "stream",
     "text": [
      "https://www.EEE.ruet.ac.bd/teacher_list\n",
      "https://www.CSE.ruet.ac.bd/teacher_list\n",
      "https://www.ETE.ruet.ac.bd/teacher_list\n",
      "https://www.ECE.ruet.ac.bd/teacher_list\n",
      "https://www.CE.ruet.ac.bd/teacher_list\n",
      "https://www.URP.ruet.ac.bd/teacher_list\n",
      "https://www.Arch.ruet.ac.bd/teacher_list\n",
      "https://www.BECM.ruet.ac.bd/teacher_list\n",
      "https://www.ME.ruet.ac.bd/teacher_list\n",
      "https://www.IPE.ruet.ac.bd/teacher_list\n",
      "https://www.GCE.ruet.ac.bd/teacher_list\n",
      "https://www.MTE.ruet.ac.bd/teacher_list\n",
      "https://www.MSE.ruet.ac.bd/teacher_list\n",
      "https://www.CFPE.ruet.ac.bd/teacher_list\n",
      "https://www.Chem.ruet.ac.bd/teacher_list\n",
      "https://www.Math.ruet.ac.bd/teacher_list\n",
      "https://www.Phy.ruet.ac.bd/teacher_list\n",
      "https://www.Hum.ruet.ac.bd/teacher_list\n"
     ]
    }
   ],
   "source": [
    "url = \"https://www.ruet.ac.bd/\"\n",
    "results = requests.get(url)\n",
    "soup = BeautifulSoup(results.text, 'html.parser')\n",
    "# print(soup.prettify)\n",
    "dept_div = soup.find_all('li', class_='short_dept')\n",
    "# print(type(dept_div))\n",
    "# print(dept_div)\n",
    "\n",
    "departments = []\n",
    "\n",
    "for d in dept_div:\n",
    "    \n",
    "    d = d.a['href']\n",
    "    d = d+'/teacher_list'\n",
    "    print(d)\n",
    "        \n",
    "    departments.append(d)"
   ]
  },
  {
   "cell_type": "code",
   "execution_count": 41,
   "id": "80fa98d1-d832-4e4d-8a95-f4321cbf6476",
   "metadata": {},
   "outputs": [],
   "source": [
    "names = []\n",
    "emails = []\n",
    "\n",
    "for url in departments:\n",
    "     \n",
    "    results = requests.get(url)\n",
    "    soup = BeautifulSoup(results.text, 'html.parser')\n",
    "    # print(soup.prettify)\n",
    "    prof = soup.find_all('a', class_='font_weight500')\n",
    "    email = soup.find_all('td')\n",
    "    # print(email)\n",
    "    \n",
    "    for p  in prof:\n",
    "        p = p.text\n",
    "        # print(p)\n",
    "        names.append(p)\n",
    "    \n",
    "    \n",
    "    for em in email:\n",
    "        em = em.text\n",
    "        if '@' in em:\n",
    "            # print(em)\n",
    "            emails.append(em)"
   ]
  },
  {
   "cell_type": "code",
   "execution_count": 42,
   "id": "5af0fd4a-2c40-4b52-a48e-15786fb0d052",
   "metadata": {},
   "outputs": [
    {
     "name": "stdout",
     "output_type": "stream",
     "text": [
      "363\n",
      "363\n"
     ]
    }
   ],
   "source": [
    "print(len(names))\n",
    "print(len(emails))"
   ]
  },
  {
   "cell_type": "code",
   "execution_count": 48,
   "id": "e8dd0c47-3f74-40cc-b655-f3b42335e4de",
   "metadata": {},
   "outputs": [
    {
     "name": "stdout",
     "output_type": "stream",
     "text": [
      "363\n"
     ]
    }
   ],
   "source": [
    "authors = []\n",
    "suffix = [\"Dr. \", \"Dr \", \"Professor Dr. \", \"Professor \", \"Professor Dr \", \"Mr. \",\"Mrs. \",\"Mr \",\"Mrs \", \n",
    "          \"Pro.Dr.\",\"(Mrs.) \",\"Miss. \", \"Dr.\", \"Prof.\"  ]\n",
    "\n",
    "for name in names:\n",
    "    for s in suffix:\n",
    "        if s in name:\n",
    "            name = name.replace(s,\"\")\n",
    "    if '(' in name:\n",
    "        index = name.find(\"(\")\n",
    "        name = name[:index-1]\n",
    "    name = name.rstrip()\n",
    "    authors.append(name)\n",
    "print(len(authors))\n",
    "# print(authors)"
   ]
  },
  {
   "cell_type": "code",
   "execution_count": 49,
   "id": "c094d9cc-0c7d-4cc7-82d4-cf603fc85918",
   "metadata": {},
   "outputs": [],
   "source": [
    "import pandas as pd\n",
    "import numpy as np"
   ]
  },
  {
   "cell_type": "code",
   "execution_count": 50,
   "id": "c8142d15-3a0d-4a1f-9473-341b677d711e",
   "metadata": {},
   "outputs": [
    {
     "name": "stdout",
     "output_type": "stream",
     "text": [
      "                          name                       email university\n",
      "0   A.M. Rezaul Karim Talukder           rkt.946@gmail.com       RUET\n",
      "1           Kazi Khairul Islam               abc@gmail.com       RUET\n",
      "2           Md. Yeakub Hussain  md.yeakubhussain@yahoo.com       RUET\n",
      "3               Md. Ruhul Amin      prof.m.r.amin@ieee.org       RUET\n",
      "4          Mirza Golam Rabbani       rabbaniruet@yahoo.com       RUET\n",
      "name          object\n",
      "email         object\n",
      "university    object\n",
      "dtype: object\n"
     ]
    }
   ],
   "source": [
    "dict = {'name': authors, 'email': emails, 'university':\"RUET\"}\n",
    "all_RUET_authors = pd.DataFrame(dict)\n",
    "print(all_RUET_authors.head())\n",
    "print(all_RUET_authors.dtypes)"
   ]
  },
  {
   "cell_type": "code",
   "execution_count": 51,
   "id": "17c4b818-194e-4ff7-8347-0879b6590953",
   "metadata": {},
   "outputs": [],
   "source": [
    "all_RUET_authors.to_csv('list_of_authors_RUET.csv')"
   ]
  }
 ],
 "metadata": {
  "kernelspec": {
   "display_name": "Python 3 (ipykernel)",
   "language": "python",
   "name": "python3"
  },
  "language_info": {
   "codemirror_mode": {
    "name": "ipython",
    "version": 3
   },
   "file_extension": ".py",
   "mimetype": "text/x-python",
   "name": "python",
   "nbconvert_exporter": "python",
   "pygments_lexer": "ipython3",
   "version": "3.9.7"
  }
 },
 "nbformat": 4,
 "nbformat_minor": 5
}
