{
 "cells": [
  {
   "cell_type": "code",
   "execution_count": 1,
   "id": "404c0c8d-021f-424f-abff-273d49d1d209",
   "metadata": {},
   "outputs": [],
   "source": [
    "import requests\n",
    "from requests import get\n",
    "from bs4 import BeautifulSoup"
   ]
  },
  {
   "cell_type": "markdown",
   "id": "88b7f3c1-385c-4424-98f8-0c5838d37869",
   "metadata": {},
   "source": [
    "### departments list"
   ]
  },
  {
   "cell_type": "code",
   "execution_count": 9,
   "id": "e0d66af0-c230-482c-bed4-44d8ea1ddf1e",
   "metadata": {},
   "outputs": [
    {
     "name": "stdout",
     "output_type": "stream",
     "text": [
      "https://www.cuet.ac.bd/dept/ce/faculty-list\n",
      "https://www.cuet.ac.bd/dept/dee/faculty-list\n",
      "https://www.cuet.ac.bd/dept/wre/faculty-list\n",
      "https://www.cuet.ac.bd/dept/me/faculty-list\n",
      "https://www.cuet.ac.bd/dept/pme/faculty-list\n",
      "https://www.cuet.ac.bd/dept/mie/faculty-list\n",
      "https://www.cuet.ac.bd/dept/eee/faculty-list\n",
      "https://www.cuet.ac.bd/dept/cse/faculty-list\n",
      "https://www.cuet.ac.bd/dept/ete/faculty-list\n",
      "https://www.cuet.ac.bd/dept/bme/faculty-list\n",
      "https://www.cuet.ac.bd/dept/architecture/faculty-list\n",
      "https://www.cuet.ac.bd/dept/urp/faculty-list\n",
      "https://www.cuet.ac.bd/dept/humanities/faculty-list\n",
      "https://www.cuet.ac.bd/dept/physics/faculty-list\n",
      "https://www.cuet.ac.bd/dept/chemistry/faculty-list\n",
      "https://www.cuet.ac.bd/dept/mathematics/faculty-list\n",
      "https://www.cuet.ac.bd/dept/mse/faculty-list\n",
      "https://www.cuet.ac.bd/dept/ne/faculty-list\n"
     ]
    }
   ],
   "source": [
    "url = \"https://www.cuet.ac.bd/faculties\"\n",
    "results = requests.get(url)\n",
    "soup = BeautifulSoup(results.text, 'html.parser')\n",
    "# print(soup.prettify)\n",
    "dept_div = soup.find_all('div', class_='total-courses')\n",
    "\n",
    "departments = []\n",
    "for container in dept_div:\n",
    "    link = container.a['href']\n",
    "    link = link + '/faculty-list'\n",
    "    print(link)\n",
    "    departments.append(link)"
   ]
  },
  {
   "cell_type": "code",
   "execution_count": null,
   "id": "8351132c-f9cc-4d68-9c75-32c55707a4f2",
   "metadata": {},
   "outputs": [],
   "source": [
    "names = []\n",
    "emails = []\n",
    "\n",
    "for url in departments:\n",
    "     \n",
    "    results = requests.get(url)\n",
    "    soup = BeautifulSoup(results.text, 'html.parser')\n",
    "    # print(soup.prettify)\n",
    "    prof = soup.find_all('div', class_='edugate-content')\n",
    "    email = soup.find_all('div', class_='comment item')\n",
    "    \n",
    "    for p in prof:\n",
    "        p = p.a.text\n",
    "        # print(p)\n",
    "        names.append(p)\n",
    "        \n",
    "    print(email)\n",
    "    # for em in email:\n",
    "    #     em = em.p.text\n",
    "    #     # print(em)\n",
    "    #     emails.append(em)    "
   ]
  }
 ],
 "metadata": {
  "kernelspec": {
   "display_name": "Python 3 (ipykernel)",
   "language": "python",
   "name": "python3"
  },
  "language_info": {
   "codemirror_mode": {
    "name": "ipython",
    "version": 3
   },
   "file_extension": ".py",
   "mimetype": "text/x-python",
   "name": "python",
   "nbconvert_exporter": "python",
   "pygments_lexer": "ipython3",
   "version": "3.9.7"
  }
 },
 "nbformat": 4,
 "nbformat_minor": 5
}
