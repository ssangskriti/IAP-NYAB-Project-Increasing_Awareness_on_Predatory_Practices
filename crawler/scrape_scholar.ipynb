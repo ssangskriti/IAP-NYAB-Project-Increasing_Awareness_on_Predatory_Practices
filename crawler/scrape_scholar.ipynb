{
 "cells": [
  {
   "cell_type": "code",
   "execution_count": 1,
   "id": "PCNVvUJYWooO",
   "metadata": {
    "colab": {
     "base_uri": "https://localhost:8080/"
    },
    "executionInfo": {
     "elapsed": 56635,
     "status": "ok",
     "timestamp": 1648439996260,
     "user": {
      "displayName": "Sristy Sangskriti",
      "photoUrl": "https://lh3.googleusercontent.com/a-/AOh14GhMEciw2fTKPYp9EHWnRkWanh9mlJPs9MbYxev2LZs=s64",
      "userId": "10420532487168434700"
     },
     "user_tz": -360
    },
    "id": "PCNVvUJYWooO",
    "outputId": "03208d06-f0d2-4acd-ad62-ef63a1760e30"
   },
   "outputs": [],
   "source": [
    "# !pip install scholarly"
   ]
  },
  {
   "cell_type": "code",
   "execution_count": 2,
   "id": "fd7cf4b7-a411-467c-8525-afd7ec3df351",
   "metadata": {
    "executionInfo": {
     "elapsed": 397,
     "status": "ok",
     "timestamp": 1648447381386,
     "user": {
      "displayName": "Sristy Sangskriti",
      "photoUrl": "https://lh3.googleusercontent.com/a-/AOh14GhMEciw2fTKPYp9EHWnRkWanh9mlJPs9MbYxev2LZs=s64",
      "userId": "10420532487168434700"
     },
     "user_tz": -360
    },
    "id": "fd7cf4b7-a411-467c-8525-afd7ec3df351"
   },
   "outputs": [],
   "source": [
    "from scholarly import scholarly, ProxyGenerator\n",
    "import pandas as pd\n",
    "import numpy as np"
   ]
  },
  {
   "cell_type": "code",
   "execution_count": 3,
   "id": "i-8nqC4CaHq_",
   "metadata": {
    "colab": {
     "base_uri": "https://localhost:8080/"
    },
    "executionInfo": {
     "elapsed": 114685,
     "status": "ok",
     "timestamp": 1648440111893,
     "user": {
      "displayName": "Sristy Sangskriti",
      "photoUrl": "https://lh3.googleusercontent.com/a-/AOh14GhMEciw2fTKPYp9EHWnRkWanh9mlJPs9MbYxev2LZs=s64",
      "userId": "10420532487168434700"
     },
     "user_tz": -360
    },
    "id": "i-8nqC4CaHq_",
    "outputId": "a5d1f93d-85b8-4eda-82de-e148a8d5341c"
   },
   "outputs": [],
   "source": [
    "# from google.colab import drive\n",
    "# drive.mount('/content/drive/')"
   ]
  },
  {
   "cell_type": "code",
   "execution_count": 4,
   "id": "b9twZDaGbOkN",
   "metadata": {
    "colab": {
     "base_uri": "https://localhost:8080/"
    },
    "executionInfo": {
     "elapsed": 575,
     "status": "ok",
     "timestamp": 1648440112411,
     "user": {
      "displayName": "Sristy Sangskriti",
      "photoUrl": "https://lh3.googleusercontent.com/a-/AOh14GhMEciw2fTKPYp9EHWnRkWanh9mlJPs9MbYxev2LZs=s64",
      "userId": "10420532487168434700"
     },
     "user_tz": -360
    },
    "id": "b9twZDaGbOkN",
    "outputId": "7dd2d29a-ac7d-4743-825e-e8b59f338b3f"
   },
   "outputs": [],
   "source": [
    "# !ls \"/content/drive/My Drive/NYAB_Project/crawler/\"\n",
    "# !cp \"/content/drive/My Drive/NYAB_Project/crawler/list_of_authors.csv\" \"list_of_authors.csv\"\n",
    "# !ls"
   ]
  },
  {
   "cell_type": "code",
   "execution_count": 5,
   "id": "e222936c-f3da-4633-b75f-cc6021f5f4e9",
   "metadata": {
    "executionInfo": {
     "elapsed": 5,
     "status": "ok",
     "timestamp": 1648440116165,
     "user": {
      "displayName": "Sristy Sangskriti",
      "photoUrl": "https://lh3.googleusercontent.com/a-/AOh14GhMEciw2fTKPYp9EHWnRkWanh9mlJPs9MbYxev2LZs=s64",
      "userId": "10420532487168434700"
     },
     "user_tz": -360
    },
    "id": "e222936c-f3da-4633-b75f-cc6021f5f4e9"
   },
   "outputs": [],
   "source": [
    "file = pd.read_csv(\"list_of_authors.csv\")\n"
   ]
  },
  {
   "cell_type": "code",
   "execution_count": 6,
   "id": "b3c4672c-fc13-4c36-9dea-79fcd6507ffe",
   "metadata": {
    "colab": {
     "base_uri": "https://localhost:8080/"
    },
    "executionInfo": {
     "elapsed": 441,
     "status": "ok",
     "timestamp": 1648449513336,
     "user": {
      "displayName": "Sristy Sangskriti",
      "photoUrl": "https://lh3.googleusercontent.com/a-/AOh14GhMEciw2fTKPYp9EHWnRkWanh9mlJPs9MbYxev2LZs=s64",
      "userId": "10420532487168434700"
     },
     "user_tz": -360
    },
    "id": "b3c4672c-fc13-4c36-9dea-79fcd6507ffe",
    "outputId": "597c7fcc-9499-4b86-b9ef-1124150e1b60"
   },
   "outputs": [
    {
     "name": "stdout",
     "output_type": "stream",
     "text": [
      "      Unnamed: 0                        name                          email  \\\n",
      "0              0      Dhiman Kumar Chowdhury     dhiman_chowdhury@yahoo.com   \n",
      "1              1          Mamtaz Uddin Ahmed  mamtaz_uddinahmed58@yahoo.com   \n",
      "2              2             Md. Abdul Hakim           mahakim_ais@du.ac.bd   \n",
      "3              3     Riazur Rahman Chowdhury    riazchowdhury62@yahoo.co.uk   \n",
      "4              4              Tahmina Khatun        tahmina.khatun@du.ac.bd   \n",
      "...          ...                         ...                            ...   \n",
      "3265         549             Marriya Sultana          marriya_soc@yahoo.com   \n",
      "3266         550  Mohammad Maniruzzaman Khan         shohag99sust@gmail.com   \n",
      "3267         551     Avijit Chakrabarty Ayon                            NaN   \n",
      "3268         552        Tania Jannatul Kobra                            NaN   \n",
      "3269         553       Sanjida Sultana Zerin           sszerin-soc@sust.edu   \n",
      "\n",
      "     university  \n",
      "0            DU  \n",
      "1            DU  \n",
      "2            DU  \n",
      "3            DU  \n",
      "4            DU  \n",
      "...         ...  \n",
      "3265       SUST  \n",
      "3266       SUST  \n",
      "3267       SUST  \n",
      "3268       SUST  \n",
      "3269       SUST  \n",
      "\n",
      "[3270 rows x 4 columns]\n",
      "<class 'list'>\n"
     ]
    }
   ],
   "source": [
    "print(file)\n",
    "authors = {}\n",
    "authors['name'] =     file['name'].values.tolist()\n",
    "authors['email'] =     file['email'].values.tolist()\n",
    "authors['university'] =     file['university'].values.tolist()\n",
    "authors['scholar_id'] = []\n",
    "print(type(authors['scholar_id']))"
   ]
  },
  {
   "cell_type": "code",
   "execution_count": 7,
   "id": "f83281eb-bd8a-4307-b1e1-72754453425b",
   "metadata": {
    "executionInfo": {
     "elapsed": 384,
     "status": "ok",
     "timestamp": 1648447099602,
     "user": {
      "displayName": "Sristy Sangskriti",
      "photoUrl": "https://lh3.googleusercontent.com/a-/AOh14GhMEciw2fTKPYp9EHWnRkWanh9mlJPs9MbYxev2LZs=s64",
      "userId": "10420532487168434700"
     },
     "user_tz": -360
    },
    "id": "f83281eb-bd8a-4307-b1e1-72754453425b"
   },
   "outputs": [],
   "source": [
    "def institution(uni):\n",
    "    if uni == \"SUST\":\n",
    "        uni = \"Shahjalal University of Science and Technology\"\n",
    "    elif uni == \"KUET\":\n",
    "        uni = \"Khulna University of Engineering and Technology\"\n",
    "    elif uni == \"RUET\":\n",
    "        uni = \"Rajshahi University of Engineering and Technology\"\n",
    "    elif uni == \"DUET\":\n",
    "        uni = \"Dhaka University of Engineering and Technology\"\n",
    "    elif uni == \"DU\":\n",
    "        uni = \"Dhaka University\"\n",
    "        \n",
    "    return uni"
   ]
  },
  {
   "cell_type": "code",
   "execution_count": 8,
   "id": "80f83417-423b-4095-9edc-17515a139108",
   "metadata": {
    "colab": {
     "base_uri": "https://localhost:8080/",
     "height": 398
    },
    "executionInfo": {
     "elapsed": 1173938,
     "status": "error",
     "timestamp": 1648449026776,
     "user": {
      "displayName": "Sristy Sangskriti",
      "photoUrl": "https://lh3.googleusercontent.com/a-/AOh14GhMEciw2fTKPYp9EHWnRkWanh9mlJPs9MbYxev2LZs=s64",
      "userId": "10420532487168434700"
     },
     "user_tz": -360
    },
    "id": "80f83417-423b-4095-9edc-17515a139108",
    "outputId": "2f8b4f8b-49c9-4963-bf9b-69b86e2aa17e"
   },
   "outputs": [
    {
     "name": "stdout",
     "output_type": "stream",
     "text": [
      "0 None\n",
      "100 None\n",
      "200 0WlOT2sAAAAJ\n"
     ]
    },
    {
     "ename": "MaxTriesExceededException",
     "evalue": "Cannot Fetch from Google Scholar.",
     "output_type": "error",
     "traceback": [
      "\u001b[1;31m---------------------------------------------------------------------------\u001b[0m",
      "\u001b[1;31mMaxTriesExceededException\u001b[0m                 Traceback (most recent call last)",
      "\u001b[1;32m~\\AppData\\Local\\Temp/ipykernel_19804/1973705740.py\u001b[0m in \u001b[0;36m<module>\u001b[1;34m\u001b[0m\n\u001b[0;32m     12\u001b[0m         \u001b[0muni\u001b[0m \u001b[1;33m=\u001b[0m \u001b[0minstitution\u001b[0m\u001b[1;33m(\u001b[0m\u001b[0muni\u001b[0m\u001b[1;33m)\u001b[0m\u001b[1;33m\u001b[0m\u001b[1;33m\u001b[0m\u001b[0m\n\u001b[0;32m     13\u001b[0m \u001b[1;33m\u001b[0m\u001b[0m\n\u001b[1;32m---> 14\u001b[1;33m         \u001b[1;32mfor\u001b[0m \u001b[0ms\u001b[0m \u001b[1;32min\u001b[0m \u001b[0msearched\u001b[0m\u001b[1;33m:\u001b[0m\u001b[1;33m\u001b[0m\u001b[1;33m\u001b[0m\u001b[0m\n\u001b[0m\u001b[0;32m     15\u001b[0m             \u001b[1;32mif\u001b[0m \u001b[0muni\u001b[0m \u001b[1;32min\u001b[0m \u001b[0ms\u001b[0m\u001b[1;33m[\u001b[0m\u001b[1;34m'affiliation'\u001b[0m\u001b[1;33m]\u001b[0m \u001b[1;32mand\u001b[0m \u001b[0mlen\u001b[0m\u001b[1;33m(\u001b[0m\u001b[0ms\u001b[0m\u001b[1;33m[\u001b[0m\u001b[1;34m'name'\u001b[0m\u001b[1;33m]\u001b[0m\u001b[1;33m)\u001b[0m\u001b[1;33m==\u001b[0m\u001b[0mlength\u001b[0m\u001b[1;33m:\u001b[0m\u001b[1;33m\u001b[0m\u001b[1;33m\u001b[0m\u001b[0m\n\u001b[0;32m     16\u001b[0m                 \u001b[0mauthors\u001b[0m\u001b[1;33m[\u001b[0m\u001b[1;34m'scholar_id'\u001b[0m\u001b[1;33m]\u001b[0m\u001b[1;33m.\u001b[0m\u001b[0mappend\u001b[0m\u001b[1;33m(\u001b[0m\u001b[0ms\u001b[0m\u001b[1;33m[\u001b[0m\u001b[1;34m'scholar_id'\u001b[0m\u001b[1;33m]\u001b[0m\u001b[1;33m)\u001b[0m\u001b[1;33m\u001b[0m\u001b[1;33m\u001b[0m\u001b[0m\n",
      "\u001b[1;32m~\\AppData\\Local\\Programs\\Python\\Python39\\lib\\site-packages\\scholarly\\_navigator.py\u001b[0m in \u001b[0;36msearch_authors\u001b[1;34m(self, url)\u001b[0m\n\u001b[0;32m    250\u001b[0m                 \u001b[0murl\u001b[0m \u001b[1;33m=\u001b[0m \u001b[0mnext_button\u001b[0m\u001b[1;33m[\u001b[0m\u001b[1;34m'onclick'\u001b[0m\u001b[1;33m]\u001b[0m\u001b[1;33m[\u001b[0m\u001b[1;36m17\u001b[0m\u001b[1;33m:\u001b[0m\u001b[1;33m-\u001b[0m\u001b[1;36m1\u001b[0m\u001b[1;33m]\u001b[0m\u001b[1;33m\u001b[0m\u001b[1;33m\u001b[0m\u001b[0m\n\u001b[0;32m    251\u001b[0m                 \u001b[0murl\u001b[0m \u001b[1;33m=\u001b[0m \u001b[0mcodecs\u001b[0m\u001b[1;33m.\u001b[0m\u001b[0mgetdecoder\u001b[0m\u001b[1;33m(\u001b[0m\u001b[1;34m\"unicode_escape\"\u001b[0m\u001b[1;33m)\u001b[0m\u001b[1;33m(\u001b[0m\u001b[0murl\u001b[0m\u001b[1;33m)\u001b[0m\u001b[1;33m[\u001b[0m\u001b[1;36m0\u001b[0m\u001b[1;33m]\u001b[0m\u001b[1;33m\u001b[0m\u001b[1;33m\u001b[0m\u001b[0m\n\u001b[1;32m--> 252\u001b[1;33m                 \u001b[0msoup\u001b[0m \u001b[1;33m=\u001b[0m \u001b[0mself\u001b[0m\u001b[1;33m.\u001b[0m\u001b[0m_get_soup\u001b[0m\u001b[1;33m(\u001b[0m\u001b[0murl\u001b[0m\u001b[1;33m)\u001b[0m\u001b[1;33m\u001b[0m\u001b[1;33m\u001b[0m\u001b[0m\n\u001b[0m\u001b[0;32m    253\u001b[0m             \u001b[1;32melse\u001b[0m\u001b[1;33m:\u001b[0m\u001b[1;33m\u001b[0m\u001b[1;33m\u001b[0m\u001b[0m\n\u001b[0;32m    254\u001b[0m                 \u001b[0mself\u001b[0m\u001b[1;33m.\u001b[0m\u001b[0mlogger\u001b[0m\u001b[1;33m.\u001b[0m\u001b[0minfo\u001b[0m\u001b[1;33m(\u001b[0m\u001b[1;34m\"No more author pages\"\u001b[0m\u001b[1;33m)\u001b[0m\u001b[1;33m\u001b[0m\u001b[1;33m\u001b[0m\u001b[0m\n",
      "\u001b[1;32m~\\AppData\\Local\\Programs\\Python\\Python39\\lib\\site-packages\\scholarly\\_navigator.py\u001b[0m in \u001b[0;36m_get_soup\u001b[1;34m(self, url)\u001b[0m\n\u001b[0;32m    224\u001b[0m     \u001b[1;32mdef\u001b[0m \u001b[0m_get_soup\u001b[0m\u001b[1;33m(\u001b[0m\u001b[0mself\u001b[0m\u001b[1;33m,\u001b[0m \u001b[0murl\u001b[0m\u001b[1;33m:\u001b[0m \u001b[0mstr\u001b[0m\u001b[1;33m)\u001b[0m \u001b[1;33m->\u001b[0m \u001b[0mBeautifulSoup\u001b[0m\u001b[1;33m:\u001b[0m\u001b[1;33m\u001b[0m\u001b[1;33m\u001b[0m\u001b[0m\n\u001b[0;32m    225\u001b[0m         \u001b[1;34m\"\"\"Return the BeautifulSoup for a page on scholar.google.com\"\"\"\u001b[0m\u001b[1;33m\u001b[0m\u001b[1;33m\u001b[0m\u001b[0m\n\u001b[1;32m--> 226\u001b[1;33m         \u001b[0mhtml\u001b[0m \u001b[1;33m=\u001b[0m \u001b[0mself\u001b[0m\u001b[1;33m.\u001b[0m\u001b[0m_get_page\u001b[0m\u001b[1;33m(\u001b[0m\u001b[1;34m'https://scholar.google.com{0}'\u001b[0m\u001b[1;33m.\u001b[0m\u001b[0mformat\u001b[0m\u001b[1;33m(\u001b[0m\u001b[0murl\u001b[0m\u001b[1;33m)\u001b[0m\u001b[1;33m)\u001b[0m\u001b[1;33m\u001b[0m\u001b[1;33m\u001b[0m\u001b[0m\n\u001b[0m\u001b[0;32m    227\u001b[0m         \u001b[0mhtml\u001b[0m \u001b[1;33m=\u001b[0m \u001b[0mhtml\u001b[0m\u001b[1;33m.\u001b[0m\u001b[0mreplace\u001b[0m\u001b[1;33m(\u001b[0m\u001b[1;34mu'\\xa0'\u001b[0m\u001b[1;33m,\u001b[0m \u001b[1;34mu' '\u001b[0m\u001b[1;33m)\u001b[0m\u001b[1;33m\u001b[0m\u001b[1;33m\u001b[0m\u001b[0m\n\u001b[0;32m    228\u001b[0m         \u001b[0mres\u001b[0m \u001b[1;33m=\u001b[0m \u001b[0mBeautifulSoup\u001b[0m\u001b[1;33m(\u001b[0m\u001b[0mhtml\u001b[0m\u001b[1;33m,\u001b[0m \u001b[1;34m'html.parser'\u001b[0m\u001b[1;33m)\u001b[0m\u001b[1;33m\u001b[0m\u001b[1;33m\u001b[0m\u001b[0m\n",
      "\u001b[1;32m~\\AppData\\Local\\Programs\\Python\\Python39\\lib\\site-packages\\scholarly\\_navigator.py\u001b[0m in \u001b[0;36m_get_page\u001b[1;34m(self, pagerequest, premium)\u001b[0m\n\u001b[0;32m    173\u001b[0m         \u001b[1;31m# If secondary proxy does not work, try again primary proxy.\u001b[0m\u001b[1;33m\u001b[0m\u001b[1;33m\u001b[0m\u001b[0m\n\u001b[0;32m    174\u001b[0m         \u001b[1;32mif\u001b[0m \u001b[1;32mnot\u001b[0m \u001b[0mpremium\u001b[0m\u001b[1;33m:\u001b[0m\u001b[1;33m\u001b[0m\u001b[1;33m\u001b[0m\u001b[0m\n\u001b[1;32m--> 175\u001b[1;33m             \u001b[1;32mreturn\u001b[0m \u001b[0mself\u001b[0m\u001b[1;33m.\u001b[0m\u001b[0m_get_page\u001b[0m\u001b[1;33m(\u001b[0m\u001b[0mpagerequest\u001b[0m\u001b[1;33m,\u001b[0m \u001b[1;32mTrue\u001b[0m\u001b[1;33m)\u001b[0m\u001b[1;33m\u001b[0m\u001b[1;33m\u001b[0m\u001b[0m\n\u001b[0m\u001b[0;32m    176\u001b[0m         \u001b[1;32melse\u001b[0m\u001b[1;33m:\u001b[0m\u001b[1;33m\u001b[0m\u001b[1;33m\u001b[0m\u001b[0m\n\u001b[0;32m    177\u001b[0m             \u001b[1;32mraise\u001b[0m \u001b[0mMaxTriesExceededException\u001b[0m\u001b[1;33m(\u001b[0m\u001b[1;34m\"Cannot Fetch from Google Scholar.\"\u001b[0m\u001b[1;33m)\u001b[0m\u001b[1;33m\u001b[0m\u001b[1;33m\u001b[0m\u001b[0m\n",
      "\u001b[1;32m~\\AppData\\Local\\Programs\\Python\\Python39\\lib\\site-packages\\scholarly\\_navigator.py\u001b[0m in \u001b[0;36m_get_page\u001b[1;34m(self, pagerequest, premium)\u001b[0m\n\u001b[0;32m    175\u001b[0m             \u001b[1;32mreturn\u001b[0m \u001b[0mself\u001b[0m\u001b[1;33m.\u001b[0m\u001b[0m_get_page\u001b[0m\u001b[1;33m(\u001b[0m\u001b[0mpagerequest\u001b[0m\u001b[1;33m,\u001b[0m \u001b[1;32mTrue\u001b[0m\u001b[1;33m)\u001b[0m\u001b[1;33m\u001b[0m\u001b[1;33m\u001b[0m\u001b[0m\n\u001b[0;32m    176\u001b[0m         \u001b[1;32melse\u001b[0m\u001b[1;33m:\u001b[0m\u001b[1;33m\u001b[0m\u001b[1;33m\u001b[0m\u001b[0m\n\u001b[1;32m--> 177\u001b[1;33m             \u001b[1;32mraise\u001b[0m \u001b[0mMaxTriesExceededException\u001b[0m\u001b[1;33m(\u001b[0m\u001b[1;34m\"Cannot Fetch from Google Scholar.\"\u001b[0m\u001b[1;33m)\u001b[0m\u001b[1;33m\u001b[0m\u001b[1;33m\u001b[0m\u001b[0m\n\u001b[0m\u001b[0;32m    178\u001b[0m \u001b[1;33m\u001b[0m\u001b[0m\n\u001b[0;32m    179\u001b[0m \u001b[1;33m\u001b[0m\u001b[0m\n",
      "\u001b[1;31mMaxTriesExceededException\u001b[0m: Cannot Fetch from Google Scholar."
     ]
    }
   ],
   "source": [
    "from pandas.core.arrays import string_\n",
    "count = 0\n",
    "\n",
    "for naam in authors['name']:\n",
    "\n",
    "    if type(naam) == str and naam != \"\":\n",
    "        length = len(naam)\n",
    "\n",
    "\n",
    "        searched = scholarly.search_author(naam)\n",
    "        uni = authors['university'][count]\n",
    "        uni = institution(uni)\n",
    "      \n",
    "        for s in searched:\n",
    "            if uni in s['affiliation'] and len(s['name'])==length:\n",
    "                authors['scholar_id'].append(s['scholar_id'])\n",
    "                break\n",
    "        if len(authors['scholar_id']) != count+1:\n",
    "            authors['scholar_id'].append(None)\n",
    "    \n",
    "        if count%100 == 0:\n",
    "            print(count, authors['scholar_id'][count])\n",
    "    else:\n",
    "        authors['scholar_id'].append(None)\n",
    "    count = count+1"
   ]
  },
  {
   "cell_type": "code",
   "execution_count": 9,
   "id": "d7c591e8-e30e-47ef-b293-dede286d4d1e",
   "metadata": {
    "colab": {
     "base_uri": "https://localhost:8080/"
    },
    "executionInfo": {
     "elapsed": 447,
     "status": "ok",
     "timestamp": 1648449385394,
     "user": {
      "displayName": "Sristy Sangskriti",
      "photoUrl": "https://lh3.googleusercontent.com/a-/AOh14GhMEciw2fTKPYp9EHWnRkWanh9mlJPs9MbYxev2LZs=s64",
      "userId": "10420532487168434700"
     },
     "user_tz": -360
    },
    "id": "d7c591e8-e30e-47ef-b293-dede286d4d1e",
    "outputId": "e4bfdae8-1404-44ba-f237-0265bbfbb13f"
   },
   "outputs": [
    {
     "name": "stdout",
     "output_type": "stream",
     "text": [
      "276\n",
      "[None, None, None, None, None, None, None, None, None, None, None, None, None, None, None, None, None, None, None, None, None, None, None, None, None, None, None, None, None, None, None, None, None, None, None, None, None, None, None, None, None, None, None, None, None, None, None, None, None, None, None, None, None, None, None, None, None, None, None, None, None, None, None, None, None, None, None, None, None, None, None, None, None, None, None, None, None, None, None, None, None, None, None, None, None, None, None, 'lyE-x4gAAAAJ', None, None, None, None, None, None, None, None, None, None, None, None, None, None, None, None, None, None, None, None, None, None, None, None, None, None, None, None, None, None, None, None, None, None, None, None, None, None, None, None, None, None, None, None, 'xYQ4EccAAAAJ', None, None, None, None, None, None, None, None, None, None, None, None, None, None, None, None, None, None, None, None, None, None, None, None, None, None, None, None, None, None, None, None, None, None, None, None, None, None, None, None, None, None, None, None, None, None, None, None, None, None, None, None, None, None, None, None, None, None, None, None, None, None, None, None, None, None, None, '0WlOT2sAAAAJ', None, None, None, None, None, None, None, None, None, None, None, None, '_ukylaMAAAAJ', None, None, None, None, None, None, None, None, None, None, None, None, None, None, None, None, None, None, None, None, None, None, None, None, None, None, None, None, None, None, None, None, None, None, None, None, None, None, None, None, None, None, None, None, None, None, None, None, None, None, None, None, None, None, None, None, None, None, None, None, None, None]\n"
     ]
    }
   ],
   "source": [
    "print(len(authors['scholar_id']))\n",
    "print(authors['scholar_id'])"
   ]
  },
  {
   "cell_type": "code",
   "execution_count": null,
   "id": "Qp_OrrIBLVuv",
   "metadata": {
    "id": "Qp_OrrIBLVuv"
   },
   "outputs": [],
   "source": [
    "dict = {'name': authors['name'], 'email': authors['emails'], 'university': authors['university'], 'scholar_id': authors['scholar_id']}\n",
    "all_authors = pd.DataFrame(dict)\n",
    "print(all_authors.head())\n",
    "print(all_authors.dtypes)"
   ]
  },
  {
   "cell_type": "code",
   "execution_count": null,
   "id": "LwieJgJELWPX",
   "metadata": {
    "id": "LwieJgJELWPX"
   },
   "outputs": [],
   "source": [
    "all_authors.to_csv('list_of_authors_with_scholarId.csv')"
   ]
  },
  {
   "cell_type": "markdown",
   "id": "09911f6c-aa36-42d2-b84d-fcd69344619d",
   "metadata": {
    "id": "09911f6c-aa36-42d2-b84d-fcd69344619d"
   },
   "source": [
    "### "
   ]
  },
  {
   "cell_type": "code",
   "execution_count": null,
   "id": "2f9b6581-e466-406f-8492-97e85d1f6668",
   "metadata": {
    "id": "2f9b6581-e466-406f-8492-97e85d1f6668"
   },
   "outputs": [],
   "source": [
    "searched = scholarly.search_author('md saiful islam')"
   ]
  },
  {
   "cell_type": "code",
   "execution_count": null,
   "id": "6d0a1087-d9de-456d-836f-0b6e5debdc9f",
   "metadata": {
    "id": "6d0a1087-d9de-456d-836f-0b6e5debdc9f",
    "outputId": "7f3d6efb-a3b9-47e2-fd4c-63f7fb5b3423"
   },
   "outputs": [
    {
     "name": "stdout",
     "output_type": "stream",
     "text": [
      "{'container_type': 'Author', 'filled': [], 'source': <AuthorSource.SEARCH_AUTHOR_SNIPPETS: 'SEARCH_AUTHOR_SNIPPETS'>, 'scholar_id': 'uyCiUr4AAAAJ', 'url_picture': 'https://scholar.google.com/citations?view_op=medium_photo&user=uyCiUr4AAAAJ', 'name': 'Md Saiful Islam', 'affiliation': 'Photogarpher', 'email_domain': '', 'interests': ['Music'], 'citedby': 25671}\n",
      "{'container_type': 'Author', 'filled': [], 'source': <AuthorSource.SEARCH_AUTHOR_SNIPPETS: 'SEARCH_AUTHOR_SNIPPETS'>, 'scholar_id': '5GAk8YoAAAAJ', 'url_picture': 'https://scholar.google.com/citations?view_op=medium_photo&user=5GAk8YoAAAAJ', 'name': 'Md. Saiful Islam', 'affiliation': 'Professor of Entomology in the Department of Crop Science  and Technology', 'email_domain': '', 'interests': ['management of stored grain pests using …', 'Diatomaceous earth', 'Pheromones'], 'citedby': 9523}\n",
      "{'container_type': 'Author', 'filled': [], 'source': <AuthorSource.SEARCH_AUTHOR_SNIPPETS: 'SEARCH_AUTHOR_SNIPPETS'>, 'scholar_id': 'PX7QF2gAAAAJ', 'url_picture': 'https://scholar.google.com/citations?view_op=medium_photo&user=PX7QF2gAAAAJ', 'name': 'Professor Dr. Md. Saiful Islam', 'affiliation': 'Department of Soil Science Faculty of Agriculture Patuakhali Science and Technology …', 'email_domain': '@pstu.ac.bd', 'interests': ['Soil Science', 'Environmental Science', 'Plant nutrition', 'Molecular biology'], 'citedby': 5823}\n",
      "{'container_type': 'Author', 'filled': [], 'source': <AuthorSource.SEARCH_AUTHOR_SNIPPETS: 'SEARCH_AUTHOR_SNIPPETS'>, 'scholar_id': '5uYKSQkAAAAJ', 'url_picture': 'https://scholar.google.com/citations?view_op=medium_photo&user=5uYKSQkAAAAJ', 'name': 'Md Saiful Islam', 'affiliation': 'pharmacy student', 'email_domain': '', 'interests': ['Pharma Research'], 'citedby': 5626}\n"
     ]
    }
   ],
   "source": [
    "print(next(searched))\n",
    "print(next(searched))\n",
    "print(next(searched))\n",
    "print(next(searched))"
   ]
  },
  {
   "cell_type": "code",
   "execution_count": null,
   "id": "341f7353-7ac6-4474-ad95-8b9fee6d88a3",
   "metadata": {
    "id": "341f7353-7ac6-4474-ad95-8b9fee6d88a3",
    "outputId": "0fbaf2d6-cb17-4f22-8766-a050e96e26e4"
   },
   "outputs": [
    {
     "name": "stdout",
     "output_type": "stream",
     "text": [
      "tQT0OSAAAAAJ\n"
     ]
    }
   ],
   "source": [
    "length = len(\"md saiful islam\")\n",
    "for author in searched:\n",
    "    if \"Shahjalal\" in author['affiliation'] and len(author['name'])==length:\n",
    "        print(author['scholar_id'])\n",
    "    # print(\"...\")"
   ]
  }
 ],
 "metadata": {
  "colab": {
   "name": "scrape_scholar.ipynb",
   "provenance": []
  },
  "kernelspec": {
   "display_name": "Python 3 (ipykernel)",
   "language": "python",
   "name": "python3"
  },
  "language_info": {
   "codemirror_mode": {
    "name": "ipython",
    "version": 3
   },
   "file_extension": ".py",
   "mimetype": "text/x-python",
   "name": "python",
   "nbconvert_exporter": "python",
   "pygments_lexer": "ipython3",
   "version": "3.9.7"
  }
 },
 "nbformat": 4,
 "nbformat_minor": 5
}
