{
 "cells": [
  {
   "cell_type": "code",
   "execution_count": 4,
   "id": "35170798-6a30-47b1-82ab-892bc574a791",
   "metadata": {},
   "outputs": [],
   "source": [
    "import requests\n",
    "from requests import get\n",
    "from bs4 import BeautifulSoup\n",
    "import re"
   ]
  },
  {
   "cell_type": "code",
   "execution_count": 17,
   "id": "ee548451-d9ae-4e64-8923-1f58cc7d57df",
   "metadata": {},
   "outputs": [],
   "source": [
    "url = \"https://www.sust.edu/\"\n",
    "results = requests.get(url)\n",
    "soup = BeautifulSoup(results.text, 'html.parser')\n",
    "# print(soup.prettify)"
   ]
  },
  {
   "cell_type": "code",
   "execution_count": 18,
   "id": "aed84cd6-ebf1-491f-8a87-edf0b2833719",
   "metadata": {},
   "outputs": [
    {
     "name": "stdout",
     "output_type": "stream",
     "text": [
      "['https://www.sust.edu/d/fes/faculty', 'https://www.sust.edu/d/arc/faculty', 'https://www.sust.edu/d/cep/faculty', 'https://www.sust.edu/d/cee/faculty', 'https://www.sust.edu/d/cse/faculty', 'https://www.sust.edu/d/eee/faculty', 'https://www.sust.edu/d/fet/faculty', 'https://www.sust.edu/d/ipe/faculty', 'https://www.sust.edu/d/mee/faculty', 'https://www.sust.edu/d/pge/faculty', 'https://www.sust.edu/d/bmb/faculty', 'https://www.sust.edu/d/geb/faculty', 'https://www.sust.edu/d/ban/faculty', 'https://www.sust.edu/d/che/faculty', 'https://www.sust.edu/d/gee/faculty', 'https://www.sust.edu/d/mat/faculty', 'https://www.sust.edu/d/ocg/faculty', 'https://www.sust.edu/d/phy/faculty', 'https://www.sust.edu/d/sta/faculty', 'https://www.sust.edu/d/anp/faculty', 'https://www.sust.edu/d/bng/faculty', 'https://www.sust.edu/d/eco/faculty', 'https://www.sust.edu/d/eng/faculty', 'https://www.sust.edu/d/pss/faculty', 'https://www.sust.edu/d/pad/faculty', 'https://www.sust.edu/d/scw/faculty', 'https://www.sust.edu/d/soc/faculty']\n"
     ]
    }
   ],
   "source": [
    "dept_div = soup.find_all('li', attrs = {\"id\":\"dept-1\"})\n",
    "# print(dept_div)\n",
    "# print(len(dept_div))\n",
    "\n",
    "departments = []\n",
    "count = 0\n",
    "for container in dept_div:\n",
    "    link = container.a['href']\n",
    "    link = link+\"/faculty\"\n",
    "    # print(link)\n",
    "    count = count+1\n",
    "    departments.append(link)\n",
    "    if count == 27:\n",
    "        break\n",
    "# print(len(departments))\n",
    "print(departments)"
   ]
  },
  {
   "cell_type": "code",
   "execution_count": 19,
   "id": "d8192296-e435-446e-b716-51f90bec98e5",
   "metadata": {},
   "outputs": [],
   "source": [
    "def extract_email(doc):\n",
    "    match = re.findall(r'[\\w.+-]+@[\\w-]+\\.[\\w.-]+', doc)\n",
    "    return ','.join(match)"
   ]
  },
  {
   "cell_type": "code",
   "execution_count": 20,
   "id": "6b447d7e-53e0-4c39-b535-fdc18d1c877f",
   "metadata": {},
   "outputs": [
    {
     "name": "stdout",
     "output_type": "stream",
     "text": [
      "0 Dr Narayan Saha    nsaha12010-fes@sust.edu\n",
      "1 Dr Md Qumruzzaman Chowdhury qumrul@gmail.com,qumrul-for@sust.edu\n",
      "2 Dr. A. Z. M. Manzoor Rashid pollen_forest@yahoo.com,rashid-fes@sust.edu\n",
      "3 Dr. Mohammad Belal Uddin belal405@yahoo.com,belal-for@sust.edu\n",
      "4 Dr. Romel Ahmed romel-fes@sust.edu\n",
      "5 Dr. Mohammad Redowan redowansust@gmail.com,redowan-for@sust.edu\n",
      "6 Dr. Mizanur Rahman mizan-for@sust.edu\n",
      "7 Dr. Swapan Kumar Sarker swapan-fes@sust.edu\n",
      "8 Dr. Mohammed Abu Sayed Arfin Khan khan-for@sust.edu\n",
      "9 Dr. Kazi Mohammad Masum kmmasum-for@sust.edu\n",
      "10 Dr Farzana Raihan fraihan-for@sust.edu\n",
      "11 Dr. Mahmuda Islam mahmuda-fes@sust.edu\n",
      "12 Md Abdul Halim halim10-fes@sust.edu\n",
      "13 Mohammad Golam Kibria kibria_sust29@yahoo.com,kibria-fes@sust.edu\n",
      "14 Mahmuda Sharmin  benu.mahmuda@gmail.com\n",
      "15 Fahmida Sultana fahmida-fes@sust.edu\n",
      "16 Sourav Das   sourav_fes@sust.edu\n",
      "17 Nusrat Islam   nusratislam06@gmail.com\n",
      "18 Sontosh Kumar Deb   sontosh-fes@sust.edu\n",
      "19 Dr Mohammed Masum Ul Haque masum-fes@sust.edu\n",
      "20 Anup Datta dattaanup-fes@sust.edu\n",
      "21 Md Saifuzzaman Bhuiyan bhuiyan09-fes@sust.edu\n",
      "22 Abdur Rakib Bhuiyan a.uzzal88-fes@sust.edu\n",
      "23 Rabeya Sultana rabeya02-fes@sust.edu\n",
      "24 Rahela Khatun rahelashupi@gmail.com,rahela-fes@sust.edu\n"
     ]
    }
   ],
   "source": [
    "url = \"https://www.sust.edu/d/fes/faculty\"\n",
    "results = requests.get(url)\n",
    "soup = BeautifulSoup(results.text, 'html.parser')\n",
    "    \n",
    "\n",
    "data  = soup.find_all('a', attrs={'href':'#', 'data-largesrc':\"images/staff/large/\" })\n",
    "count = 0\n",
    "\n",
    "for d in data:\n",
    "    \n",
    "    email = d['data-description']\n",
    "    start = email.find(\"Email\")\n",
    "    end = email.find(\".edu\")    \n",
    "    \n",
    "    email = email[start+7:end+4]\n",
    "    name = d['data-title']\n",
    "    \n",
    "    email = extract_email(email)\n",
    "    \n",
    "    print(count, name, email)\n",
    "    count = count+1"
   ]
  },
  {
   "cell_type": "code",
   "execution_count": 21,
   "id": "f9f33489-1fb2-4860-a874-b4f2b5222972",
   "metadata": {},
   "outputs": [],
   "source": [
    "names = []\n",
    "emails = []\n",
    "\n",
    "count = 0\n",
    "for url in departments:\n",
    "    \n",
    "    results = requests.get(url)\n",
    "    soup = BeautifulSoup(results.text, 'html.parser')\n",
    "    \n",
    "    data  = soup.find_all('a', attrs={'href':'#', 'data-largesrc':\"images/staff/large/\" })\n",
    "    \n",
    "    \n",
    "    for d in data:\n",
    "\n",
    "        email = d['data-description']\n",
    "        start = email.find(\"Email\")\n",
    "        end = email.find(\".edu\")    \n",
    "\n",
    "        email = email[start+7:end+4]\n",
    "        name = d['data-title']\n",
    "        \n",
    "        email = extract_email(email)\n",
    "\n",
    "        names.append(name)\n",
    "        emails.append(email)\n",
    "        \n",
    "        # print(count, name, email)\n",
    "        # count = count+1"
   ]
  },
  {
   "cell_type": "code",
   "execution_count": 22,
   "id": "976822c5-797e-41bc-bc85-cabc2881b658",
   "metadata": {},
   "outputs": [
    {
     "name": "stdout",
     "output_type": "stream",
     "text": [
      "554\n",
      "554\n"
     ]
    }
   ],
   "source": [
    "print(len(names))\n",
    "print(len(emails))"
   ]
  },
  {
   "cell_type": "code",
   "execution_count": 23,
   "id": "73cd6bbc-e38f-4378-b9b4-c6003985a6ae",
   "metadata": {},
   "outputs": [],
   "source": [
    "import re"
   ]
  },
  {
   "cell_type": "code",
   "execution_count": 24,
   "id": "9aac31e1-8ee5-4794-8430-136a3fd0ada8",
   "metadata": {},
   "outputs": [
    {
     "name": "stdout",
     "output_type": "stream",
     "text": [
      "554\n"
     ]
    }
   ],
   "source": [
    "authors = []\n",
    "suffix = [\"Dr. \", \"Dr \", \"Professor Dr. \", \"Professor \", \"Professor Dr \", \"Mr. \",\"Mrs. \",\"Mr \",\"Mrs \", \n",
    "          \"Pro.Dr.\",\"(Mrs.) \",\"Miss. \", \"Dr.\"  ]\n",
    "\n",
    "for name in names:\n",
    "    for s in suffix:\n",
    "        if s in name:\n",
    "            name = name.replace(s,\"\")\n",
    "    if '(' in name:\n",
    "        index = name.find(\"(\")\n",
    "        name = name[:index-1]\n",
    "    if ',' in name:\n",
    "        index = name.find(\",\")\n",
    "        name = name[:index-1]\n",
    "    re.sub(r'\\s', ' ', name)\n",
    "    name = name.rstrip()\n",
    "    authors.append(name)\n",
    "print(len(authors))"
   ]
  },
  {
   "cell_type": "code",
   "execution_count": 25,
   "id": "20209c3e-f521-4720-ae2a-0a4e7b10a2a8",
   "metadata": {},
   "outputs": [],
   "source": [
    "# print(authors)"
   ]
  },
  {
   "cell_type": "code",
   "execution_count": 26,
   "id": "0b66b166-3162-44f4-89d1-c481fec1f0c4",
   "metadata": {},
   "outputs": [],
   "source": [
    "import pandas as pd\n",
    "import numpy as np"
   ]
  },
  {
   "cell_type": "code",
   "execution_count": 28,
   "id": "f8b965e5-cc8b-4292-835c-2245fa3c6b9f",
   "metadata": {},
   "outputs": [],
   "source": [
    "dict = {'name': authors, 'email': emails, 'university': 'SUST'}"
   ]
  },
  {
   "cell_type": "code",
   "execution_count": 29,
   "id": "78545742-288c-4639-9908-40aab72f9508",
   "metadata": {},
   "outputs": [],
   "source": [
    "all_SUST_authors = pd.DataFrame(dict)"
   ]
  },
  {
   "cell_type": "code",
   "execution_count": 30,
   "id": "c019c64f-d427-43c9-a3d1-b07404b42d1b",
   "metadata": {},
   "outputs": [
    {
     "name": "stdout",
     "output_type": "stream",
     "text": [
      "                       name                                        email  \\\n",
      "0              Narayan Saha                      nsaha12010-fes@sust.edu   \n",
      "1  Md Qumruzzaman Chowdhury         qumrul@gmail.com,qumrul-for@sust.edu   \n",
      "2   A. Z. M. Manzoor Rashid  pollen_forest@yahoo.com,rashid-fes@sust.edu   \n",
      "3      Mohammad Belal Uddin        belal405@yahoo.com,belal-for@sust.edu   \n",
      "4               Romel Ahmed                           romel-fes@sust.edu   \n",
      "\n",
      "  university  \n",
      "0       SUST  \n",
      "1       SUST  \n",
      "2       SUST  \n",
      "3       SUST  \n",
      "4       SUST  \n",
      "name          object\n",
      "email         object\n",
      "university    object\n",
      "dtype: object\n"
     ]
    }
   ],
   "source": [
    "print(all_SUST_authors.head())\n",
    "print(all_SUST_authors.dtypes)"
   ]
  },
  {
   "cell_type": "code",
   "execution_count": 31,
   "id": "286499be-5328-428b-b87f-28023ff4ad43",
   "metadata": {},
   "outputs": [],
   "source": [
    "all_SUST_authors.to_csv('list_of_authors_SUST.csv')"
   ]
  },
  {
   "cell_type": "code",
   "execution_count": 16,
   "id": "fcddc18c-0e9d-42f7-aa97-4a2dbc82b91f",
   "metadata": {},
   "outputs": [
    {
     "name": "stdout",
     "output_type": "stream",
     "text": [
      "<class 'pandas.core.series.Series'>\n"
     ]
    }
   ],
   "source": [
    "print(type(all_SUST_authors.iloc[500]))\n"
   ]
  },
  {
   "cell_type": "code",
   "execution_count": 6,
   "id": "8ea6284a-cdc8-49c2-8d26-c7e2773fc534",
   "metadata": {},
   "outputs": [
    {
     "data": {
      "text/plain": [
       "'abc  efg   '"
      ]
     },
     "execution_count": 6,
     "metadata": {},
     "output_type": "execute_result"
    }
   ],
   "source": [
    "name = 'abc\\t efg\\t \\xa0'\n",
    "re.sub(r'\\s', ' ', name)"
   ]
  },
  {
   "cell_type": "code",
   "execution_count": null,
   "id": "1ee37eac-c13f-44f3-adc2-b42e470c1bf1",
   "metadata": {},
   "outputs": [],
   "source": []
  }
 ],
 "metadata": {
  "kernelspec": {
   "display_name": "Python 3 (ipykernel)",
   "language": "python",
   "name": "python3"
  },
  "language_info": {
   "codemirror_mode": {
    "name": "ipython",
    "version": 3
   },
   "file_extension": ".py",
   "mimetype": "text/x-python",
   "name": "python",
   "nbconvert_exporter": "python",
   "pygments_lexer": "ipython3",
   "version": "3.9.7"
  }
 },
 "nbformat": 4,
 "nbformat_minor": 5
}
