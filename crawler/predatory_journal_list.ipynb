{
 "cells": [
  {
   "cell_type": "code",
   "execution_count": 1,
   "id": "3cad8664-0a28-438f-8fb4-c68c1c10edee",
   "metadata": {},
   "outputs": [],
   "source": [
    "import pandas as pd"
   ]
  },
  {
   "cell_type": "code",
   "execution_count": 2,
   "id": "b495cd3c-7cce-441b-a8b5-6cbde5f6972b",
   "metadata": {},
   "outputs": [],
   "source": [
    "file = pd.read_csv(\"../scholar/predatory_journal_list.csv\")"
   ]
  },
  {
   "cell_type": "code",
   "execution_count": 3,
   "id": "579bfa47-fa26-4442-9497-2d9190ac4ebf",
   "metadata": {},
   "outputs": [
    {
     "name": "stdout",
     "output_type": "stream",
     "text": [
      "                                               title\n",
      "0  Academic Exchange Quarterly,Academic Research ...\n"
     ]
    }
   ],
   "source": [
    "print(file)\n",
    "journal = file['title'].values.tolist()"
   ]
  },
  {
   "cell_type": "code",
   "execution_count": 5,
   "id": "93996834-e3cd-4eb9-9789-6e2194f46fb5",
   "metadata": {},
   "outputs": [
    {
     "name": "stdout",
     "output_type": "stream",
     "text": [
      "1402\n",
      "<class 'list'>\n"
     ]
    }
   ],
   "source": [
    "for j in journal:\n",
    "    journals = j.split(',')\n",
    "    \n",
    "print(len(journals))\n",
    "print(type(journals))\n",
    "# print(journals)"
   ]
  },
  {
   "cell_type": "code",
   "execution_count": null,
   "id": "f7dbd9bc-7009-40a2-aa0d-68655e7e3830",
   "metadata": {},
   "outputs": [],
   "source": []
  }
 ],
 "metadata": {
  "kernelspec": {
   "display_name": "Python 3 (ipykernel)",
   "language": "python",
   "name": "python3"
  },
  "language_info": {
   "codemirror_mode": {
    "name": "ipython",
    "version": 3
   },
   "file_extension": ".py",
   "mimetype": "text/x-python",
   "name": "python",
   "nbconvert_exporter": "python",
   "pygments_lexer": "ipython3",
   "version": "3.9.7"
  }
 },
 "nbformat": 4,
 "nbformat_minor": 5
}
